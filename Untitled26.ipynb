{
  "nbformat": 4,
  "nbformat_minor": 0,
  "metadata": {
    "colab": {
      "provenance": [],
      "authorship_tag": "ABX9TyOPJ7I9cDWcVoIitnB09UMe",
      "include_colab_link": true
    },
    "kernelspec": {
      "name": "python3",
      "display_name": "Python 3"
    },
    "language_info": {
      "name": "python"
    }
  },
  "cells": [
    {
      "cell_type": "markdown",
      "metadata": {
        "id": "view-in-github",
        "colab_type": "text"
      },
      "source": [
        "<a href=\"https://colab.research.google.com/github/krystianjablonowski/Resonant-exciton-contributions-to-quantum-well-electroabsorption/blob/main/Untitled26.ipynb\" target=\"_parent\"><img src=\"https://colab.research.google.com/assets/colab-badge.svg\" alt=\"Open In Colab\"/></a>"
      ]
    },
    {
      "cell_type": "code",
      "execution_count": null,
      "metadata": {
        "id": "6FQpbZgftJFp"
      },
      "outputs": [],
      "source": [
        "import numpy as np\n",
        "import scipy\n",
        "import math\n",
        "\n",
        "from math import cos, exp, pi, sqrt\n",
        "from scipy.integrate import quad\n",
        "from matplotlib import pyplot as plt\n",
        "from numpy.linalg import eig"
      ]
    },
    {
      "cell_type": "markdown",
      "source": [
        "Code below generate potential. First argument LB are a breadth of the bariers whereas LW are a breadth of wells. By n we label number of wells. F is a streanth of electric field whileas by V0 and V0prime we can control relevent hight of barier and wells."
      ],
      "metadata": {
        "id": "bw2XVR7UyUZn"
      }
    },
    {
      "cell_type": "code",
      "source": [
        "def V(LB,LW,n,V0,V0prim,F,z):\n",
        "  for i in range(0,n):\n",
        "    if(int(i)*LB+int(i)*LW<z and z<int(i)*LW+(int(i)+1)*LB or (int(n)*LB+int(n)*LW<z and z<int(n)*LW+(int(n)+1)*LB )):\n",
        "      return F*z+V0\n",
        "    if(int(i+1)*LB+int(i+1)*LW>=z and z>=int(i)*LW+(int(i)+1)*LB and z>0):\n",
        "      return F*z+V0prim\n",
        "    if(z<=0 or z>int(n)*LW+(int(n)+1)*LB):\n",
        "      return 0\n",
        "\n",
        "for i in range(0,4):\n",
        "  print(i)"
      ],
      "metadata": {
        "colab": {
          "base_uri": "https://localhost:8080/"
        },
        "id": "0ndpH4Q3JuT2",
        "outputId": "58e725b2-fb43-47d9-8589-ace04685a67a"
      },
      "execution_count": null,
      "outputs": [
        {
          "output_type": "stream",
          "name": "stdout",
          "text": [
            "0\n",
            "1\n",
            "2\n",
            "3\n"
          ]
        }
      ]
    },
    {
      "cell_type": "code",
      "source": [
        "list=[]\n",
        "for i in np.arange(-1,40,0.01):\n",
        "  \n",
        "  \n",
        "  list.append(V(2,1,8,4,0.1,1,i))\n",
        "\n",
        "plt.title('Potencjał')\n",
        "plt.plot(np.arange(-1,40,0.01),list,'-0')"
      ],
      "metadata": {
        "id": "bAY22ssQTIBH",
        "colab": {
          "base_uri": "https://localhost:8080/",
          "height": 298
        },
        "outputId": "0fabf973-96e3-49a8-afbb-c232bd03b294"
      },
      "execution_count": null,
      "outputs": [
        {
          "output_type": "execute_result",
          "data": {
            "text/plain": [
              "[<matplotlib.lines.Line2D at 0x7f169bfcfd30>]"
            ]
          },
          "metadata": {},
          "execution_count": 59
        },
        {
          "output_type": "display_data",
          "data": {
            "text/plain": [
              "<Figure size 432x288 with 1 Axes>"
            ],
            "image/png": "[encoded data removed]"
          },
          "metadata": {
            "needs_background": "light"
          }
        }
      ]
    },
    {
      "cell_type": "code",
      "source": [],
      "metadata": {
        "id": "_RqDDIUnjqDM"
      },
      "execution_count": null,
      "outputs": []
    }
  ]
}