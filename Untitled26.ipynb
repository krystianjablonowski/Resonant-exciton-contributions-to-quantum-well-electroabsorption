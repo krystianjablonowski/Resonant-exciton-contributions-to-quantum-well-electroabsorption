{
  "nbformat": 4,
  "nbformat_minor": 0,
  "metadata": {
    "colab": {
      "provenance": [],
      "authorship_tag": "ABX9TyP27i/GoU+Wy2ZmdPi3abBd",
      "include_colab_link": true
    },
    "kernelspec": {
      "name": "python3",
      "display_name": "Python 3"
    },
    "language_info": {
      "name": "python"
    },
    "widgets": {
      "application/vnd.jupyter.widget-state+json": {
        "7c598bfb4d0940ed93c97ae3def291ea": {
          "model_module": "@jupyter-widgets/controls",
          "model_name": "VBoxModel",
          "model_module_version": "1.5.0",
          "state": {
            "_dom_classes": [
              "widget-interact"
            ],
            "_model_module": "@jupyter-widgets/controls",
            "_model_module_version": "1.5.0",
            "_model_name": "VBoxModel",
            "_view_count": null,
            "_view_module": "@jupyter-widgets/controls",
            "_view_module_version": "1.5.0",
            "_view_name": "VBoxView",
            "box_style": "",
            "children": [
              "IPY_MODEL_ac26f37d9b63481cadce9c2709643276",
              "IPY_MODEL_31928aee7c774839a5924e754f9d00db"
            ],
            "layout": "IPY_MODEL_0832c699ec6b4cb1bdddc73bbc3f51db"
          }
        },
        "ac26f37d9b63481cadce9c2709643276": {
          "model_module": "@jupyter-widgets/controls",
          "model_name": "FloatSliderModel",
          "model_module_version": "1.5.0",
          "state": {
            "_dom_classes": [],
            "_model_module": "@jupyter-widgets/controls",
            "_model_module_version": "1.5.0",
            "_model_name": "FloatSliderModel",
            "_view_count": null,
            "_view_module": "@jupyter-widgets/controls",
            "_view_module_version": "1.5.0",
            "_view_name": "FloatSliderView",
            "continuous_update": true,
            "description": "E",
            "description_tooltip": null,
            "disabled": false,
            "layout": "IPY_MODEL_8088aa24b306486f85ccd7621dd33593",
            "max": 20,
            "min": 0.1,
            "orientation": "horizontal",
            "readout": true,
            "readout_format": ".2f",
            "step": 0.25,
            "style": "IPY_MODEL_c23b11f02f3048f28774b845cf9448b1",
            "value": 9.85
          }
        },
        "31928aee7c774839a5924e754f9d00db": {
          "model_module": "@jupyter-widgets/output",
          "model_name": "OutputModel",
          "model_module_version": "1.0.0",
          "state": {
            "_dom_classes": [],
            "_model_module": "@jupyter-widgets/output",
            "_model_module_version": "1.0.0",
            "_model_name": "OutputModel",
            "_view_count": null,
            "_view_module": "@jupyter-widgets/output",
            "_view_module_version": "1.0.0",
            "_view_name": "OutputView",
            "layout": "IPY_MODEL_8f377633aabf4d37a0a7b2214b1c35ab",
            "msg_id": "",
            "outputs": [
              {
                "output_type": "display_data",
                "data": {
                  "text/plain": "<Figure size 432x288 with 1 Axes>",
                  "image/png": "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\n"
                },
                "metadata": {
                  "needs_background": "light"
                }
              },
              {
                "output_type": "display_data",
                "data": {
                  "text/plain": "[<matplotlib.lines.Line2D at 0x7f24de59cd90>]"
                },
                "metadata": {}
              }
            ]
          }
        },
        "0832c699ec6b4cb1bdddc73bbc3f51db": {
          "model_module": "@jupyter-widgets/base",
          "model_name": "LayoutModel",
          "model_module_version": "1.2.0",
          "state": {
            "_model_module": "@jupyter-widgets/base",
            "_model_module_version": "1.2.0",
            "_model_name": "LayoutModel",
            "_view_count": null,
            "_view_module": "@jupyter-widgets/base",
            "_view_module_version": "1.2.0",
            "_view_name": "LayoutView",
            "align_content": null,
            "align_items": null,
            "align_self": null,
            "border": null,
            "bottom": null,
            "display": null,
            "flex": null,
            "flex_flow": null,
            "grid_area": null,
            "grid_auto_columns": null,
            "grid_auto_flow": null,
            "grid_auto_rows": null,
            "grid_column": null,
            "grid_gap": null,
            "grid_row": null,
            "grid_template_areas": null,
            "grid_template_columns": null,
            "grid_template_rows": null,
            "height": null,
            "justify_content": null,
            "justify_items": null,
            "left": null,
            "margin": null,
            "max_height": null,
            "max_width": null,
            "min_height": null,
            "min_width": null,
            "object_fit": null,
            "object_position": null,
            "order": null,
            "overflow": null,
            "overflow_x": null,
            "overflow_y": null,
            "padding": null,
            "right": null,
            "top": null,
            "visibility": null,
            "width": null
          }
        },
        "8088aa24b306486f85ccd7621dd33593": {
          "model_module": "@jupyter-widgets/base",
          "model_name": "LayoutModel",
          "model_module_version": "1.2.0",
          "state": {
            "_model_module": "@jupyter-widgets/base",
            "_model_module_version": "1.2.0",
            "_model_name": "LayoutModel",
            "_view_count": null,
            "_view_module": "@jupyter-widgets/base",
            "_view_module_version": "1.2.0",
            "_view_name": "LayoutView",
            "align_content": null,
            "align_items": null,
            "align_self": null,
            "border": null,
            "bottom": null,
            "display": null,
            "flex": null,
            "flex_flow": null,
            "grid_area": null,
            "grid_auto_columns": null,
            "grid_auto_flow": null,
            "grid_auto_rows": null,
            "grid_column": null,
            "grid_gap": null,
            "grid_row": null,
            "grid_template_areas": null,
            "grid_template_columns": null,
            "grid_template_rows": null,
            "height": null,
            "justify_content": null,
            "justify_items": null,
            "left": null,
            "margin": null,
            "max_height": null,
            "max_width": null,
            "min_height": null,
            "min_width": null,
            "object_fit": null,
            "object_position": null,
            "order": null,
            "overflow": null,
            "overflow_x": null,
            "overflow_y": null,
            "padding": null,
            "right": null,
            "top": null,
            "visibility": null,
            "width": null
          }
        },
        "c23b11f02f3048f28774b845cf9448b1": {
          "model_module": "@jupyter-widgets/controls",
          "model_name": "SliderStyleModel",
          "model_module_version": "1.5.0",
          "state": {
            "_model_module": "@jupyter-widgets/controls",
            "_model_module_version": "1.5.0",
            "_model_name": "SliderStyleModel",
            "_view_count": null,
            "_view_module": "@jupyter-widgets/base",
            "_view_module_version": "1.2.0",
            "_view_name": "StyleView",
            "description_width": "",
            "handle_color": null
          }
        },
        "8f377633aabf4d37a0a7b2214b1c35ab": {
          "model_module": "@jupyter-widgets/base",
          "model_name": "LayoutModel",
          "model_module_version": "1.2.0",
          "state": {
            "_model_module": "@jupyter-widgets/base",
            "_model_module_version": "1.2.0",
            "_model_name": "LayoutModel",
            "_view_count": null,
            "_view_module": "@jupyter-widgets/base",
            "_view_module_version": "1.2.0",
            "_view_name": "LayoutView",
            "align_content": null,
            "align_items": null,
            "align_self": null,
            "border": null,
            "bottom": null,
            "display": null,
            "flex": null,
            "flex_flow": null,
            "grid_area": null,
            "grid_auto_columns": null,
            "grid_auto_flow": null,
            "grid_auto_rows": null,
            "grid_column": null,
            "grid_gap": null,
            "grid_row": null,
            "grid_template_areas": null,
            "grid_template_columns": null,
            "grid_template_rows": null,
            "height": null,
            "justify_content": null,
            "justify_items": null,
            "left": null,
            "margin": null,
            "max_height": null,
            "max_width": null,
            "min_height": null,
            "min_width": null,
            "object_fit": null,
            "object_position": null,
            "order": null,
            "overflow": null,
            "overflow_x": null,
            "overflow_y": null,
            "padding": null,
            "right": null,
            "top": null,
            "visibility": null,
            "width": null
          }
        }
      }
    }
  },
  "cells": [
    {
      "cell_type": "markdown",
      "metadata": {
        "id": "view-in-github",
        "colab_type": "text"
      },
      "source": [
        "<a href=\"https://colab.research.google.com/github/krystianjablonowski/Resonant-exciton-contributions-to-quantum-well-electroabsorption/blob/main/Untitled26.ipynb\" target=\"_parent\"><img src=\"https://colab.research.google.com/assets/colab-badge.svg\" alt=\"Open In Colab\"/></a>"
      ]
    },
    {
      "cell_type": "code",
      "execution_count": 203,
      "metadata": {
        "id": "6FQpbZgftJFp"
      },
      "outputs": [],
      "source": [
        "import numpy as np\n",
        "import scipy\n",
        "import math\n",
        "\n",
        "from math import cos, exp, pi, sqrt\n",
        "from scipy.integrate import quad\n",
        "from matplotlib import pyplot as plt\n",
        "from numpy.linalg import eig"
      ]
    },
    {
      "cell_type": "markdown",
      "source": [
        "Code below generate potential. First argument LB are a breadth of the bariers whereas LW are a breadth of wells. By n we label number of wells. F is a streanth of electric field whileas by V0 and V0prime we can control relevent hight of barier and wells."
      ],
      "metadata": {
        "id": "bw2XVR7UyUZn"
      }
    },
    {
      "cell_type": "code",
      "source": [
        "def V(LB,LW,n,V0,V0prim,F,z):\n",
        "  for i in range(0,n):\n",
        "    if(int(i)*LB+int(i)*LW<z and z<int(i)*LW+(int(i)+1)*LB or (int(n)*LB+int(n)*LW<z and z<int(n)*LW+(int(n)+1)*LB )):\n",
        "      return F*z+V0\n",
        "    if(int(i+1)*LB+int(i+1)*LW>=z and z>=int(i)*LW+(int(i)+1)*LB and z>0):\n",
        "      return F*z+V0prim\n",
        "    if(z<=0 or z>int(n)*LW+(int(n)+1)*LB):\n",
        "      return 0\n",
        "\n"
      ],
      "metadata": {
        "id": "0ndpH4Q3JuT2"
      },
      "execution_count": 204,
      "outputs": []
    },
    {
      "cell_type": "code",
      "source": [
        "list=[]\n",
        "for i in np.arange(-10,20,0.01):\n",
        "  \n",
        "  \n",
        "  list.append(V(1,1,8,10,0,0.5,i))\n",
        "\n",
        "plt.title('Potencjał')\n",
        "plt.plot(np.arange(-10,20,0.01),list,'-0')"
      ],
      "metadata": {
        "id": "bAY22ssQTIBH",
        "colab": {
          "base_uri": "https://localhost:8080/",
          "height": 298
        },
        "outputId": "afe0b845-ac07-4473-eac2-d131a1117413"
      },
      "execution_count": 205,
      "outputs": [
        {
          "output_type": "execute_result",
          "data": {
            "text/plain": [
              "[<matplotlib.lines.Line2D at 0x7f24de67f610>]"
            ]
          },
          "metadata": {},
          "execution_count": 205
        },
        {
          "output_type": "display_data",
          "data": {
            "text/plain": [
              "<Figure size 432x288 with 1 Axes>"
            ],
            "image/png": "[encoded data removed]"
          },
          "metadata": {
            "needs_background": "light"
          }
        }
      ]
    },
    {
      "cell_type": "markdown",
      "source": [
        "Now we use method of finite differences to solve Schrodinger equation with above external potential. We assume that the incoming wave has a form of $\\sin(kz+\\delta)$ and that the wave function vanish in $z→+∞$."
      ],
      "metadata": {
        "id": "wkLT0ZKF8BDR"
      }
    },
    {
      "cell_type": "code",
      "source": [
        "LB=1\n",
        "LW=1\n",
        "n=20\n",
        "V0=10\n",
        "V0prim=0\n",
        "F=0.5\n",
        "\n",
        "N=10000\n",
        "deltaz=((n*(LB+LW)+LB))/N\n",
        "\n",
        "def psi(E):\n",
        "  listfunction=[]\n",
        "  listfunction.append(0)\n",
        "  listfunction.append(1)\n",
        "  for i in range(0,N+1):\n",
        "    listfunction.append((-1)*listfunction[(i)]-((deltaz)**2*(E-V(LB,LW,n,V0,V0prim,F,(N-i-1)*deltaz))-2)*listfunction[i+1])\n",
        "\n",
        "  return listfunction\n",
        "  "
      ],
      "metadata": {
        "id": "_RqDDIUnjqDM"
      },
      "execution_count": 206,
      "outputs": []
    },
    {
      "cell_type": "code",
      "source": [
        "def Fu(E):  \n",
        "  new_listfunction=psi(E)\n",
        "  new_list=[]\n",
        "  new_listfuninQW=[]\n",
        "  B=sqrt(new_listfunction[N]**2+((new_listfunction[N]-new_listfunction[N-1])/(sqrt(E)*deltaz))**2)\n",
        "  #for i in range(0,N+1):\n",
        "    #if(i*deltaz<((n)/2*(LB+LW)) and i*deltaz>(n/2+1)*LB+n/2*LW):\n",
        "   # new_list.append(-new_listfunction[i]-((1)*(deltaz)**2*(E-V(LB,LW,n,V0,V0prim,F,int(N-i)*deltaz))-2)*new_listfunction[i+1])\n",
        "  new_listfuninQW=[(i * ((1)/(B)))**2 for i in new_listfunction]\n",
        "  #return new_listfuninQW\n",
        "  return plt.plot(np.arange(((LB+LW)*n+LB+3*deltaz),0,(-1)*deltaz),new_listfuninQW,'-0')"
      ],
      "metadata": {
        "id": "VZ5n9jfFXt2x"
      },
      "execution_count": 207,
      "outputs": []
    },
    {
      "cell_type": "code",
      "source": [
        "from ipywidgets import *\n",
        "\n",
        "interact(Fu,E=(0.1,20,0.25));"
      ],
      "metadata": {
        "colab": {
          "base_uri": "https://localhost:8080/",
          "height": 314,
          "referenced_widgets": [
            "7c598bfb4d0940ed93c97ae3def291ea",
            "ac26f37d9b63481cadce9c2709643276",
            "31928aee7c774839a5924e754f9d00db",
            "0832c699ec6b4cb1bdddc73bbc3f51db",
            "8088aa24b306486f85ccd7621dd33593",
            "c23b11f02f3048f28774b845cf9448b1",
            "8f377633aabf4d37a0a7b2214b1c35ab"
          ]
        },
        "id": "dyI4sgmQX6Nx",
        "outputId": "a90094c7-1c0d-4c32-95c0-a23a89687b6f"
      },
      "execution_count": 208,
      "outputs": [
        {
          "output_type": "display_data",
          "data": {
            "text/plain": [
              "interactive(children=(FloatSlider(value=9.85, description='E', max=20.0, min=0.1, step=0.25), Output()), _dom_…"
            ],
            "application/vnd.jupyter.widget-view+json": {
              "version_major": 2,
              "version_minor": 0,
              "model_id": "7c598bfb4d0940ed93c97ae3def291ea"
            }
          },
          "metadata": {}
        }
      ]
    },
    {
      "cell_type": "code",
      "source": [
        "\n",
        "def A(E):  \n",
        "  new_listfunction=psi(E) #list of nonnormalized wave function\n",
        "  new_list=[]\n",
        "  new_listfuninQW=[]\n",
        "  B=sqrt(new_listfunction[N]**2+((new_listfunction[N]-new_listfunction[N-1])/(sqrt(E)*deltaz))**2)\n",
        "  for i in range(0,N+1):\n",
        "    if(n % 2==0):\n",
        "      if(i*deltaz<((n/2)*(LB+LW)) and i*deltaz>(n/2-1)*(LB+LW)+LB):\n",
        "        #new_list.append(-new_listfunction[i]-((1)*(deltaz)**2*(E-V(LB,LW,n,V0,V0prim,F,int(-1+N-i)*deltaz))-2)*new_listfunction[i+1])\n",
        "        new_list.append(new_listfunction[i])\n",
        "    if(n%2==1):\n",
        "      if(i*deltaz<(((n+1)/2)*(LB+LW)) and i*deltaz>((n+1)/2-1)*(LB+LW)+LB):\n",
        "        #new_list.append(-new_listfunction[i]-((1)*(deltaz)**2*(E-V(LB,LW,n,V0,V0prim,F,int(-1+N-i)*deltaz))-2)*new_listfunction[i+1])\n",
        "        new_list.append(new_listfunction[i])\n",
        "  new_listfuninQW=[(i * ((deltaz)/(B)))**2 for i in new_list]\n",
        "  return sum(new_listfuninQW)"
      ],
      "metadata": {
        "id": "pscU2T3BAs1q"
      },
      "execution_count": 209,
      "outputs": []
    },
    {
      "cell_type": "code",
      "source": [
        "xright=10\n",
        "xleft=3\n",
        "\n",
        "list3=[]\n",
        "for i in np.arange(xleft,xright,0.05):\n",
        "  list3.append(A(i))\n",
        "\n",
        "\n",
        "\n",
        "from scipy.signal import find_peaks\n",
        "peaks, _ = find_peaks(list3)\n",
        "#plt.plot(np.arange(1,100,0.05)[peaks],list3[peaks], \"x\")\n",
        "print(np.arange(xleft,xright,0.05)[peaks])\n",
        "print(list3[peaks[1]])\n",
        "for i in range(0,len(peaks)):\n",
        "  plt.plot(np.arange(xleft,xright,0.05)[peaks[i]],list3[peaks[i]], \"o\",color=\"C3\")\n",
        "  #plt.text(np.arange(1,30,0.05)[peaks[i]],list3[peaks[i]], '({}, {})'.format(format(np.arange(1,30,0.05)[peaks[i]],'.2f'),0))\n",
        "\n",
        "plt.xlabel('E',fontsize=12)\n",
        "plt.ylabel('$\\phi$(E)',fontsize=12)\n",
        "plt.yscale('log')\n",
        "plt.title('LDOS')\n",
        "plt.plot(np.arange(xleft,xright,0.05),list3,'-0')\n"
      ],
      "metadata": {
        "colab": {
          "base_uri": "https://localhost:8080/",
          "height": 350
        },
        "id": "N7XTHewQAxZG",
        "outputId": "0301a896-f063-4107-b155-8eabdc04ec51"
      },
      "execution_count": 210,
      "outputs": [
        {
          "output_type": "stream",
          "name": "stdout",
          "text": [
            "[4.25 5.25 6.25 7.25 8.25 9.25]\n",
            "1.9881662973534363e-36\n"
          ]
        },
        {
          "output_type": "execute_result",
          "data": {
            "text/plain": [
              "[<matplotlib.lines.Line2D at 0x7f24de5b9580>]"
            ]
          },
          "metadata": {},
          "execution_count": 210
        },
        {
          "output_type": "display_data",
          "data": {
            "text/plain": [
              "<Figure size 432x288 with 1 Axes>"
            ],
            "image/png": "[encoded data removed]"
          },
          "metadata": {
            "needs_background": "light"
          }
        }
      ]
    },
    {
      "cell_type": "code",
      "source": [],
      "metadata": {
        "id": "3_yRdH0L0Vqy"
      },
      "execution_count": 210,
      "outputs": []
    }
  ]
}