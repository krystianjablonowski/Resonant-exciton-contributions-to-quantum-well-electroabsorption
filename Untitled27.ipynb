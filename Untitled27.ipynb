{
  "nbformat": 4,
  "nbformat_minor": 0,
  "metadata": {
    "colab": {
      "provenance": [],
      "authorship_tag": "ABX9TyMaay80KRMxJKxp5aHmTfk4",
      "include_colab_link": true
    },
    "kernelspec": {
      "name": "python3",
      "display_name": "Python 3"
    },
    "language_info": {
      "name": "python"
    },
    "widgets": {
      "application/vnd.jupyter.widget-state+json": {
        "e6583db4aa1845c4aa90efd22c0d4e91": {
          "model_module": "@jupyter-widgets/controls",
          "model_name": "VBoxModel",
          "model_module_version": "1.5.0",
          "state": {
            "_dom_classes": [
              "widget-interact"
            ],
            "_model_module": "@jupyter-widgets/controls",
            "_model_module_version": "1.5.0",
            "_model_name": "VBoxModel",
            "_view_count": null,
            "_view_module": "@jupyter-widgets/controls",
            "_view_module_version": "1.5.0",
            "_view_name": "VBoxView",
            "box_style": "",
            "children": [
              "IPY_MODEL_f341566d274e41b4b7207d3548649c4d",
              "IPY_MODEL_19e7cd152b6c451794d71b74d18f2c94"
            ],
            "layout": "IPY_MODEL_c790b47f62404acdaa3a243407bd675b"
          }
        },
        "f341566d274e41b4b7207d3548649c4d": {
          "model_module": "@jupyter-widgets/controls",
          "model_name": "FloatSliderModel",
          "model_module_version": "1.5.0",
          "state": {
            "_dom_classes": [],
            "_model_module": "@jupyter-widgets/controls",
            "_model_module_version": "1.5.0",
            "_model_name": "FloatSliderModel",
            "_view_count": null,
            "_view_module": "@jupyter-widgets/controls",
            "_view_module_version": "1.5.0",
            "_view_name": "FloatSliderView",
            "continuous_update": true,
            "description": "E",
            "description_tooltip": null,
            "disabled": false,
            "layout": "IPY_MODEL_89fdcecacfa6436eb21de9f687111880",
            "max": 20,
            "min": 0.1,
            "orientation": "horizontal",
            "readout": true,
            "readout_format": ".2f",
            "step": 0.25,
            "style": "IPY_MODEL_efe4bff34e1b42228aae9f8da6e00d9d",
            "value": 9.85
          }
        },
        "19e7cd152b6c451794d71b74d18f2c94": {
          "model_module": "@jupyter-widgets/output",
          "model_name": "OutputModel",
          "model_module_version": "1.0.0",
          "state": {
            "_dom_classes": [],
            "_model_module": "@jupyter-widgets/output",
            "_model_module_version": "1.0.0",
            "_model_name": "OutputModel",
            "_view_count": null,
            "_view_module": "@jupyter-widgets/output",
            "_view_module_version": "1.0.0",
            "_view_name": "OutputView",
            "layout": "IPY_MODEL_0f99a99e60754c9a81726bdf1e8f4164",
            "msg_id": "",
            "outputs": [
              {
                "output_type": "display_data",
                "data": {
                  "text/plain": "<Figure size 432x288 with 1 Axes>",
                  "image/png": "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\n"
                },
                "metadata": {
                  "needs_background": "light"
                }
              },
              {
                "output_type": "display_data",
                "data": {
                  "text/plain": "[<matplotlib.lines.Line2D at 0x7f65564ad8b0>]"
                },
                "metadata": {}
              }
            ]
          }
        },
        "c790b47f62404acdaa3a243407bd675b": {
          "model_module": "@jupyter-widgets/base",
          "model_name": "LayoutModel",
          "model_module_version": "1.2.0",
          "state": {
            "_model_module": "@jupyter-widgets/base",
            "_model_module_version": "1.2.0",
            "_model_name": "LayoutModel",
            "_view_count": null,
            "_view_module": "@jupyter-widgets/base",
            "_view_module_version": "1.2.0",
            "_view_name": "LayoutView",
            "align_content": null,
            "align_items": null,
            "align_self": null,
            "border": null,
            "bottom": null,
            "display": null,
            "flex": null,
            "flex_flow": null,
            "grid_area": null,
            "grid_auto_columns": null,
            "grid_auto_flow": null,
            "grid_auto_rows": null,
            "grid_column": null,
            "grid_gap": null,
            "grid_row": null,
            "grid_template_areas": null,
            "grid_template_columns": null,
            "grid_template_rows": null,
            "height": null,
            "justify_content": null,
            "justify_items": null,
            "left": null,
            "margin": null,
            "max_height": null,
            "max_width": null,
            "min_height": null,
            "min_width": null,
            "object_fit": null,
            "object_position": null,
            "order": null,
            "overflow": null,
            "overflow_x": null,
            "overflow_y": null,
            "padding": null,
            "right": null,
            "top": null,
            "visibility": null,
            "width": null
          }
        },
        "89fdcecacfa6436eb21de9f687111880": {
          "model_module": "@jupyter-widgets/base",
          "model_name": "LayoutModel",
          "model_module_version": "1.2.0",
          "state": {
            "_model_module": "@jupyter-widgets/base",
            "_model_module_version": "1.2.0",
            "_model_name": "LayoutModel",
            "_view_count": null,
            "_view_module": "@jupyter-widgets/base",
            "_view_module_version": "1.2.0",
            "_view_name": "LayoutView",
            "align_content": null,
            "align_items": null,
            "align_self": null,
            "border": null,
            "bottom": null,
            "display": null,
            "flex": null,
            "flex_flow": null,
            "grid_area": null,
            "grid_auto_columns": null,
            "grid_auto_flow": null,
            "grid_auto_rows": null,
            "grid_column": null,
            "grid_gap": null,
            "grid_row": null,
            "grid_template_areas": null,
            "grid_template_columns": null,
            "grid_template_rows": null,
            "height": null,
            "justify_content": null,
            "justify_items": null,
            "left": null,
            "margin": null,
            "max_height": null,
            "max_width": null,
            "min_height": null,
            "min_width": null,
            "object_fit": null,
            "object_position": null,
            "order": null,
            "overflow": null,
            "overflow_x": null,
            "overflow_y": null,
            "padding": null,
            "right": null,
            "top": null,
            "visibility": null,
            "width": null
          }
        },
        "efe4bff34e1b42228aae9f8da6e00d9d": {
          "model_module": "@jupyter-widgets/controls",
          "model_name": "SliderStyleModel",
          "model_module_version": "1.5.0",
          "state": {
            "_model_module": "@jupyter-widgets/controls",
            "_model_module_version": "1.5.0",
            "_model_name": "SliderStyleModel",
            "_view_count": null,
            "_view_module": "@jupyter-widgets/base",
            "_view_module_version": "1.2.0",
            "_view_name": "StyleView",
            "description_width": "",
            "handle_color": null
          }
        },
        "0f99a99e60754c9a81726bdf1e8f4164": {
          "model_module": "@jupyter-widgets/base",
          "model_name": "LayoutModel",
          "model_module_version": "1.2.0",
          "state": {
            "_model_module": "@jupyter-widgets/base",
            "_model_module_version": "1.2.0",
            "_model_name": "LayoutModel",
            "_view_count": null,
            "_view_module": "@jupyter-widgets/base",
            "_view_module_version": "1.2.0",
            "_view_name": "LayoutView",
            "align_content": null,
            "align_items": null,
            "align_self": null,
            "border": null,
            "bottom": null,
            "display": null,
            "flex": null,
            "flex_flow": null,
            "grid_area": null,
            "grid_auto_columns": null,
            "grid_auto_flow": null,
            "grid_auto_rows": null,
            "grid_column": null,
            "grid_gap": null,
            "grid_row": null,
            "grid_template_areas": null,
            "grid_template_columns": null,
            "grid_template_rows": null,
            "height": null,
            "justify_content": null,
            "justify_items": null,
            "left": null,
            "margin": null,
            "max_height": null,
            "max_width": null,
            "min_height": null,
            "min_width": null,
            "object_fit": null,
            "object_position": null,
            "order": null,
            "overflow": null,
            "overflow_x": null,
            "overflow_y": null,
            "padding": null,
            "right": null,
            "top": null,
            "visibility": null,
            "width": null
          }
        }
      }
    }
  },
  "cells": [
    {
      "cell_type": "markdown",
      "metadata": {
        "id": "view-in-github",
        "colab_type": "text"
      },
      "source": [
        "<a href=\"https://colab.research.google.com/github/krystianjablonowski/Resonant-exciton-contributions-to-quantum-well-electroabsorption/blob/main/Untitled27.ipynb\" target=\"_parent\"><img src=\"https://colab.research.google.com/assets/colab-badge.svg\" alt=\"Open In Colab\"/></a>"
      ]
    },
    {
      "cell_type": "code",
      "execution_count": 412,
      "metadata": {
        "id": "wh63XqOIB4dL"
      },
      "outputs": [],
      "source": [
        "import numpy as np\n",
        "import scipy\n",
        "import math\n",
        "\n",
        "from math import cos, exp, pi, sqrt\n",
        "from scipy.integrate import quad\n",
        "from matplotlib import pyplot as plt\n",
        "from numpy.linalg import eig"
      ]
    },
    {
      "cell_type": "code",
      "source": [
        "V0pri= np.random.normal(0, 2, 50)\n",
        "def V(LB,LW,n,V0,F,z):\n",
        "  \n",
        "\n",
        "  for i in range(0,n):\n",
        "    if(int(i)*LB+int(i)*LW<z and z<int(i)*LW+(int(i)+1)*LB or (int(n)*LB+int(n)*LW<z and z<int(n)*LW+(int(n)+1)*LB )):\n",
        "      return F*z+V0\n",
        "    if(int(i+1)*LB+int(i+1)*LW>=z and z>=int(i)*LW+(int(i)+1)*LB and z>0):\n",
        "      return F*z+V0pri[i]\n",
        "    if(z<=0 or z>int(n)*LW+(int(n)+1)*LB):\n",
        "      return 0"
      ],
      "metadata": {
        "id": "zn8ASgtaB6uZ"
      },
      "execution_count": 413,
      "outputs": []
    },
    {
      "cell_type": "code",
      "source": [
        "\n",
        "list=[]\n",
        "for i in np.arange(-10,40,0.01):\n",
        "  \n",
        "  \n",
        "  list.append(V(2,1,8,10,0.5,i))\n",
        "\n",
        "plt.title('Potencjał')\n",
        "plt.plot(np.arange(-10,40,0.01),list,'-0')"
      ],
      "metadata": {
        "colab": {
          "base_uri": "https://localhost:8080/",
          "height": 298
        },
        "id": "ewTavMmrDynY",
        "outputId": "d0056136-6cca-4b0a-a601-3689275cbd63"
      },
      "execution_count": 414,
      "outputs": [
        {
          "output_type": "execute_result",
          "data": {
            "text/plain": [
              "[<matplotlib.lines.Line2D at 0x7f655651d280>]"
            ]
          },
          "metadata": {},
          "execution_count": 414
        },
        {
          "output_type": "display_data",
          "data": {
            "text/plain": [
              "<Figure size 432x288 with 1 Axes>"
            ],
            "image/png": "[encoded data removed]"
          },
          "metadata": {
            "needs_background": "light"
          }
        }
      ]
    },
    {
      "cell_type": "code",
      "source": [
        "s = np.abs(np.random.normal(2, 3, 10))\n",
        "print(s[5])"
      ],
      "metadata": {
        "colab": {
          "base_uri": "https://localhost:8080/"
        },
        "id": "FvWDSz6CC3GE",
        "outputId": "9d10d2d9-534b-4b90-9000-1d0e9c906ae7"
      },
      "execution_count": 415,
      "outputs": [
        {
          "output_type": "stream",
          "name": "stdout",
          "text": [
            "3.029603475976305\n"
          ]
        }
      ]
    },
    {
      "cell_type": "code",
      "source": [
        "LB=1\n",
        "LW=1\n",
        "n=20\n",
        "V0=10\n",
        "V0prim=0\n",
        "F=0.5\n",
        "\n",
        "N=10000\n",
        "deltaz=((n*(LB+LW)+LB))/N\n",
        "\n",
        "def psi(E):\n",
        "  listfunction=[]\n",
        "  listfunction.append(0)\n",
        "  listfunction.append(1)\n",
        "  for i in range(0,N+1):\n",
        "    listfunction.append((-1)*listfunction[(i)]-((deltaz)**2*(E-V(LB,LW,n,V0,F,(N-i-1)*deltaz))-2)*listfunction[i+1])\n",
        "\n",
        "  return listfunction"
      ],
      "metadata": {
        "id": "Lza_Dxg9C3qU"
      },
      "execution_count": 416,
      "outputs": []
    },
    {
      "cell_type": "code",
      "source": [
        "def Fu(E):  \n",
        "  new_listfunction=psi(E)\n",
        "  new_list=[]\n",
        "  new_listfuninQW=[]\n",
        "  B=sqrt(new_listfunction[N]**2+((new_listfunction[N]-new_listfunction[N-1])/(sqrt(E)*deltaz))**2)\n",
        "  #for i in range(0,N+1):\n",
        "    #if(i*deltaz<((n)/2*(LB+LW)) and i*deltaz>(n/2+1)*LB+n/2*LW):\n",
        "   # new_list.append(-new_listfunction[i]-((1)*(deltaz)**2*(E-V(LB,LW,n,V0,V0prim,F,int(N-i)*deltaz))-2)*new_listfunction[i+1])\n",
        "  new_listfuninQW=[(i * ((1)/(B)))**2 for i in new_listfunction]\n",
        "  #return new_listfuninQW\n",
        "  return plt.plot(np.arange(((LB+LW)*n+LB+3*deltaz),0,(-1)*deltaz),new_listfuninQW,'-0')"
      ],
      "metadata": {
        "id": "Kiy8yv2b1QR5"
      },
      "execution_count": 417,
      "outputs": []
    },
    {
      "cell_type": "code",
      "source": [
        "from ipywidgets import *\n",
        "\n",
        "interact(Fu,E=(0.1,20,0.25));"
      ],
      "metadata": {
        "colab": {
          "base_uri": "https://localhost:8080/",
          "height": 314,
          "referenced_widgets": [
            "e6583db4aa1845c4aa90efd22c0d4e91",
            "f341566d274e41b4b7207d3548649c4d",
            "19e7cd152b6c451794d71b74d18f2c94",
            "c790b47f62404acdaa3a243407bd675b",
            "89fdcecacfa6436eb21de9f687111880",
            "efe4bff34e1b42228aae9f8da6e00d9d",
            "0f99a99e60754c9a81726bdf1e8f4164"
          ]
        },
        "id": "Jfugx8xt1Sbs",
        "outputId": "0b133a41-666b-4c44-a91f-9eec9a0df62a"
      },
      "execution_count": 418,
      "outputs": [
        {
          "output_type": "display_data",
          "data": {
            "text/plain": [
              "interactive(children=(FloatSlider(value=9.85, description='E', max=20.0, min=0.1, step=0.25), Output()), _dom_…"
            ],
            "application/vnd.jupyter.widget-view+json": {
              "version_major": 2,
              "version_minor": 0,
              "model_id": "e6583db4aa1845c4aa90efd22c0d4e91"
            }
          },
          "metadata": {}
        }
      ]
    },
    {
      "cell_type": "code",
      "source": [
        "def A(E):  \n",
        "  new_listfunction=psi(E) #list of nonnormalized wave function\n",
        "  new_list=[]\n",
        "  new_listfuninQW=[]\n",
        "  B=sqrt(new_listfunction[N]**2+((new_listfunction[N]-new_listfunction[N-1])/(sqrt(E)*deltaz))**2)\n",
        "  for i in range(0,N+1):\n",
        "    if(n % 2==0):\n",
        "      if(i*deltaz<((n/2)*(LB+LW)) and i*deltaz>(n/2-1)*(LB+LW)+LB):\n",
        "        #new_list.append(-new_listfunction[i]-((1)*(deltaz)**2*(E-V(LB,LW,n,V0,V0prim,F,int(-1+N-i)*deltaz))-2)*new_listfunction[i+1])\n",
        "        new_list.append(new_listfunction[i])\n",
        "    if(n%2==1):\n",
        "      if(i*deltaz<(((n+1)/2)*(LB+LW)) and i*deltaz>((n+1)/2-1)*(LB+LW)+LB):\n",
        "        #new_list.append(-new_listfunction[i]-((1)*(deltaz)**2*(E-V(LB,LW,n,V0,V0prim,F,int(-1+N-i)*deltaz))-2)*new_listfunction[i+1])\n",
        "        new_list.append(new_listfunction[i])\n",
        "  new_listfuninQW=[(i * ((deltaz)/(B)))**2 for i in new_list]\n",
        "  return sum(new_listfuninQW)"
      ],
      "metadata": {
        "id": "tRNbynVE1UYa"
      },
      "execution_count": 419,
      "outputs": []
    },
    {
      "cell_type": "code",
      "source": [
        "xright=10\n",
        "xleft=3\n",
        "\n",
        "list3=[]\n",
        "for i in np.arange(xleft,xright,0.05):\n",
        "  list3.append(A(i))\n",
        "\n",
        "\n",
        "\n",
        "from scipy.signal import find_peaks\n",
        "peaks, _ = find_peaks(list3)\n",
        "#plt.plot(np.arange(1,100,0.05)[peaks],list3[peaks], \"x\")\n",
        "print(np.arange(xleft,xright,0.05)[peaks])\n",
        "print(list3[peaks[1]])\n",
        "for i in range(0,len(peaks)):\n",
        "  plt.plot(np.arange(xleft,xright,0.05)[peaks[i]],list3[peaks[i]], \"o\",color=\"C3\")\n",
        "\n",
        "plt.xlabel('E',fontsize=12)\n",
        "plt.ylabel('$\\phi$(E)',fontsize=12)\n",
        "plt.yscale('log')\n",
        "plt.title('LDOS dla rozkładu normalnego')\n",
        "plt.plot(np.arange(xleft,xright,0.05),list3,'-0')"
      ],
      "metadata": {
        "colab": {
          "base_uri": "https://localhost:8080/",
          "height": 350
        },
        "id": "GPs62_Rx18gp",
        "outputId": "1f7ba9cf-1941-46c0-893c-a7ce50213cdb"
      },
      "execution_count": 420,
      "outputs": [
        {
          "output_type": "stream",
          "name": "stdout",
          "text": [
            "[3.35 4.3  6.6  7.45 8.  ]\n",
            "4.3634435735716386e-38\n"
          ]
        },
        {
          "output_type": "execute_result",
          "data": {
            "text/plain": [
              "[<matplotlib.lines.Line2D at 0x7f6556501e50>]"
            ]
          },
          "metadata": {},
          "execution_count": 420
        },
        {
          "output_type": "display_data",
          "data": {
            "text/plain": [
              "<Figure size 432x288 with 1 Axes>"
            ],
            "image/png": "[encoded data removed]"
          },
          "metadata": {
            "needs_background": "light"
          }
        }
      ]
    },
    {
      "cell_type": "code",
      "source": [],
      "metadata": {
        "id": "SqO_9Gyz1-qU"
      },
      "execution_count": 420,
      "outputs": []
    }
  ]
}